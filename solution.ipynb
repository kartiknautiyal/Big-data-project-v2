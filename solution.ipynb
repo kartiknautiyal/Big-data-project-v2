{
 "cells": [
  {
   "cell_type": "code",
   "execution_count": 2,
   "id": "1ef828d9-dec6-4dae-a328-c66aa98d7cc5",
   "metadata": {},
   "outputs": [],
   "source": [
    "import pyspark.sql.functions as F\n",
    "import pyspark.sql.types as T\n",
    "from pyspark import SparkContext, SparkConf\n",
    "from pyspark.sql import SparkSession\n",
    "import json\n",
    "import logging\n",
    "import pickle\n",
    "import time\n",
    "import datetime"
   ]
  },
  {
   "cell_type": "code",
   "execution_count": 2,
   "id": "fc8c9b7b-30ed-41ab-83a1-90e270b3c097",
   "metadata": {},
   "outputs": [
    {
     "name": "stderr",
     "output_type": "stream",
     "text": [
      "Setting default log level to \"WARN\".\n",
      "To adjust logging level use sc.setLogLevel(newLevel). For SparkR, use setLogLevel(newLevel).\n"
     ]
    },
    {
     "name": "stdout",
     "output_type": "stream",
     "text": [
      "22/12/16 19:03:40 WARN NativeCodeLoader: Unable to load native-hadoop library for your platform... using builtin-java classes where applicable\n"
     ]
    }
   ],
   "source": [
    "conf = SparkConf().setAppName(\"KafkaExp\")\n",
    "conf = conf.setMaster('local[*]')\n",
    "sc = SparkContext(conf=conf)"
   ]
  },
  {
   "cell_type": "code",
   "execution_count": 3,
   "id": "88f6cbf0-d722-4c65-b338-113671d21005",
   "metadata": {},
   "outputs": [
    {
     "name": "stdout",
     "output_type": "stream",
     "text": [
      ":: loading settings :: url = jar:file:/opt/bitnami/spark/jars/ivy-2.5.0.jar!/org/apache/ivy/core/settings/ivysettings.xml\n"
     ]
    },
    {
     "name": "stderr",
     "output_type": "stream",
     "text": [
      "Ivy Default Cache set to: /root/.ivy2/cache\n",
      "The jars for the packages stored in: /root/.ivy2/jars\n",
      "org.apache.spark#spark-sql-kafka-0-10_2.12 added as a dependency\n",
      "org.apache.kafka#kafka-clients added as a dependency\n",
      "org.apache.hadoop#hadoop-aws added as a dependency\n",
      "com.google.guava#guava added as a dependency\n",
      "org.apache.httpcomponents#httpcore added as a dependency\n",
      "org.mongodb.spark#mongo-spark-connector_2.12 added as a dependency\n",
      ":: resolving dependencies :: org.apache.spark#spark-submit-parent-0aac1444-1ec0-4d73-9e8c-fae30fdf7ff0;1.0\n",
      "\tconfs: [default]\n",
      "\tfound org.apache.spark#spark-sql-kafka-0-10_2.12;3.3.0 in central\n",
      "\tfound org.apache.spark#spark-token-provider-kafka-0-10_2.12;3.3.0 in central\n",
      "\tfound org.apache.kafka#kafka-clients;2.8.1 in central\n",
      "\tfound org.lz4#lz4-java;1.8.0 in central\n",
      "\tfound org.xerial.snappy#snappy-java;1.1.8.4 in central\n",
      "\tfound org.slf4j#slf4j-api;1.7.32 in central\n",
      "\tfound org.apache.hadoop#hadoop-client-runtime;3.3.2 in central\n",
      "\tfound org.spark-project.spark#unused;1.0.0 in central\n",
      "\tfound org.apache.hadoop#hadoop-client-api;3.3.2 in central\n",
      "\tfound commons-logging#commons-logging;1.1.3 in central\n",
      "\tfound com.google.code.findbugs#jsr305;3.0.0 in central\n",
      "\tfound org.apache.commons#commons-pool2;2.11.1 in central\n",
      "\tfound org.apache.hadoop#hadoop-aws;3.3.0 in central\n",
      "\tfound com.amazonaws#aws-java-sdk-bundle;1.11.563 in central\n",
      "\tfound org.wildfly.openssl#wildfly-openssl;1.0.7.Final in central\n",
      "\tfound com.google.guava#guava;21.0 in central\n",
      "\tfound org.apache.httpcomponents#httpcore;4.4.8 in central\n",
      "\tfound org.mongodb.spark#mongo-spark-connector_2.12;3.0.1 in central\n",
      "\tfound org.mongodb#mongodb-driver-sync;4.0.5 in central\n",
      "\tfound org.mongodb#bson;4.0.5 in central\n",
      "\tfound org.mongodb#mongodb-driver-core;4.0.5 in central\n",
      "downloading https://repo1.maven.org/maven2/org/apache/spark/spark-sql-kafka-0-10_2.12/3.3.0/spark-sql-kafka-0-10_2.12-3.3.0.jar ...\n",
      "\t[SUCCESSFUL ] org.apache.spark#spark-sql-kafka-0-10_2.12;3.3.0!spark-sql-kafka-0-10_2.12.jar (54ms)\n",
      "downloading https://repo1.maven.org/maven2/org/apache/hadoop/hadoop-aws/3.3.0/hadoop-aws-3.3.0.jar ...\n",
      "\t[SUCCESSFUL ] org.apache.hadoop#hadoop-aws;3.3.0!hadoop-aws.jar (88ms)\n",
      "downloading https://repo1.maven.org/maven2/com/google/guava/guava/21.0/guava-21.0.jar ...\n",
      "\t[SUCCESSFUL ] com.google.guava#guava;21.0!guava.jar(bundle) (193ms)\n",
      "downloading https://repo1.maven.org/maven2/org/apache/httpcomponents/httpcore/4.4.8/httpcore-4.4.8.jar ...\n",
      "\t[SUCCESSFUL ] org.apache.httpcomponents#httpcore;4.4.8!httpcore.jar (48ms)\n",
      "downloading https://repo1.maven.org/maven2/org/mongodb/spark/mongo-spark-connector_2.12/3.0.1/mongo-spark-connector_2.12-3.0.1.jar ...\n",
      "\t[SUCCESSFUL ] org.mongodb.spark#mongo-spark-connector_2.12;3.0.1!mongo-spark-connector_2.12.jar (65ms)\n",
      "downloading https://repo1.maven.org/maven2/org/apache/spark/spark-token-provider-kafka-0-10_2.12/3.3.0/spark-token-provider-kafka-0-10_2.12-3.3.0.jar ...\n",
      "\t[SUCCESSFUL ] org.apache.spark#spark-token-provider-kafka-0-10_2.12;3.3.0!spark-token-provider-kafka-0-10_2.12.jar (29ms)\n",
      "downloading https://repo1.maven.org/maven2/org/apache/kafka/kafka-clients/2.8.1/kafka-clients-2.8.1.jar ...\n",
      "\t[SUCCESSFUL ] org.apache.kafka#kafka-clients;2.8.1!kafka-clients.jar (409ms)\n",
      "downloading https://repo1.maven.org/maven2/com/google/code/findbugs/jsr305/3.0.0/jsr305-3.0.0.jar ...\n",
      "\t[SUCCESSFUL ] com.google.code.findbugs#jsr305;3.0.0!jsr305.jar (27ms)\n",
      "downloading https://repo1.maven.org/maven2/org/apache/commons/commons-pool2/2.11.1/commons-pool2-2.11.1.jar ...\n",
      "\t[SUCCESSFUL ] org.apache.commons#commons-pool2;2.11.1!commons-pool2.jar (43ms)\n",
      "downloading https://repo1.maven.org/maven2/org/spark-project/spark/unused/1.0.0/unused-1.0.0.jar ...\n",
      "\t[SUCCESSFUL ] org.spark-project.spark#unused;1.0.0!unused.jar (30ms)\n",
      "downloading https://repo1.maven.org/maven2/org/apache/hadoop/hadoop-client-runtime/3.3.2/hadoop-client-runtime-3.3.2.jar ...\n",
      "\t[SUCCESSFUL ] org.apache.hadoop#hadoop-client-runtime;3.3.2!hadoop-client-runtime.jar (2038ms)\n",
      "downloading https://repo1.maven.org/maven2/org/lz4/lz4-java/1.8.0/lz4-java-1.8.0.jar ...\n",
      "\t[SUCCESSFUL ] org.lz4#lz4-java;1.8.0!lz4-java.jar (96ms)\n",
      "downloading https://repo1.maven.org/maven2/org/xerial/snappy/snappy-java/1.1.8.4/snappy-java-1.1.8.4.jar ...\n",
      "\t[SUCCESSFUL ] org.xerial.snappy#snappy-java;1.1.8.4!snappy-java.jar(bundle) (237ms)\n",
      "downloading https://repo1.maven.org/maven2/org/slf4j/slf4j-api/1.7.32/slf4j-api-1.7.32.jar ...\n",
      "\t[SUCCESSFUL ] org.slf4j#slf4j-api;1.7.32!slf4j-api.jar (32ms)\n",
      "downloading https://repo1.maven.org/maven2/org/apache/hadoop/hadoop-client-api/3.3.2/hadoop-client-api-3.3.2.jar ...\n",
      "\t[SUCCESSFUL ] org.apache.hadoop#hadoop-client-api;3.3.2!hadoop-client-api.jar (1503ms)\n",
      "downloading https://repo1.maven.org/maven2/commons-logging/commons-logging/1.1.3/commons-logging-1.1.3.jar ...\n",
      "\t[SUCCESSFUL ] commons-logging#commons-logging;1.1.3!commons-logging.jar (47ms)\n",
      "downloading https://repo1.maven.org/maven2/com/amazonaws/aws-java-sdk-bundle/1.11.563/aws-java-sdk-bundle-1.11.563.jar ...\n",
      "\t[SUCCESSFUL ] com.amazonaws#aws-java-sdk-bundle;1.11.563!aws-java-sdk-bundle.jar (11426ms)\n",
      "downloading https://repo1.maven.org/maven2/org/wildfly/openssl/wildfly-openssl/1.0.7.Final/wildfly-openssl-1.0.7.Final.jar ...\n",
      "\t[SUCCESSFUL ] org.wildfly.openssl#wildfly-openssl;1.0.7.Final!wildfly-openssl.jar (73ms)\n",
      "downloading https://repo1.maven.org/maven2/org/mongodb/mongodb-driver-sync/4.0.5/mongodb-driver-sync-4.0.5.jar ...\n",
      "\t[SUCCESSFUL ] org.mongodb#mongodb-driver-sync;4.0.5!mongodb-driver-sync.jar (51ms)\n",
      "downloading https://repo1.maven.org/maven2/org/mongodb/bson/4.0.5/bson-4.0.5.jar ...\n",
      "\t[SUCCESSFUL ] org.mongodb#bson;4.0.5!bson.jar (54ms)\n",
      "downloading https://repo1.maven.org/maven2/org/mongodb/mongodb-driver-core/4.0.5/mongodb-driver-core-4.0.5.jar ...\n",
      "\t[SUCCESSFUL ] org.mongodb#mongodb-driver-core;4.0.5!mongodb-driver-core.jar (142ms)\n",
      ":: resolution report :: resolve 6623ms :: artifacts dl 16700ms\n",
      "\t:: modules in use:\n",
      "\tcom.amazonaws#aws-java-sdk-bundle;1.11.563 from central in [default]\n",
      "\tcom.google.code.findbugs#jsr305;3.0.0 from central in [default]\n",
      "\tcom.google.guava#guava;21.0 from central in [default]\n",
      "\tcommons-logging#commons-logging;1.1.3 from central in [default]\n",
      "\torg.apache.commons#commons-pool2;2.11.1 from central in [default]\n",
      "\torg.apache.hadoop#hadoop-aws;3.3.0 from central in [default]\n",
      "\torg.apache.hadoop#hadoop-client-api;3.3.2 from central in [default]\n",
      "\torg.apache.hadoop#hadoop-client-runtime;3.3.2 from central in [default]\n",
      "\torg.apache.httpcomponents#httpcore;4.4.8 from central in [default]\n",
      "\torg.apache.kafka#kafka-clients;2.8.1 from central in [default]\n",
      "\torg.apache.spark#spark-sql-kafka-0-10_2.12;3.3.0 from central in [default]\n",
      "\torg.apache.spark#spark-token-provider-kafka-0-10_2.12;3.3.0 from central in [default]\n",
      "\torg.lz4#lz4-java;1.8.0 from central in [default]\n",
      "\torg.mongodb#bson;4.0.5 from central in [default]\n",
      "\torg.mongodb#mongodb-driver-core;4.0.5 from central in [default]\n",
      "\torg.mongodb#mongodb-driver-sync;4.0.5 from central in [default]\n",
      "\torg.mongodb.spark#mongo-spark-connector_2.12;3.0.1 from central in [default]\n",
      "\torg.slf4j#slf4j-api;1.7.32 from central in [default]\n",
      "\torg.spark-project.spark#unused;1.0.0 from central in [default]\n",
      "\torg.wildfly.openssl#wildfly-openssl;1.0.7.Final from central in [default]\n",
      "\torg.xerial.snappy#snappy-java;1.1.8.4 from central in [default]\n",
      "\t:: evicted modules:\n",
      "\torg.apache.kafka#kafka-clients;2.8.0 by [org.apache.kafka#kafka-clients;2.8.1] in [default]\n",
      "\t---------------------------------------------------------------------\n",
      "\t|                  |            modules            ||   artifacts   |\n",
      "\t|       conf       | number| search|dwnlded|evicted|| number|dwnlded|\n",
      "\t---------------------------------------------------------------------\n",
      "\t|      default     |   22  |   21  |   21  |   1   ||   21  |   21  |\n",
      "\t---------------------------------------------------------------------\n",
      ":: retrieving :: org.apache.spark#spark-submit-parent-0aac1444-1ec0-4d73-9e8c-fae30fdf7ff0\n",
      "\tconfs: [default]\n",
      "\t21 artifacts copied, 0 already retrieved (190189kB/174ms)\n"
     ]
    },
    {
     "name": "stdout",
     "output_type": "stream",
     "text": [
      "22/12/16 19:06:13 WARN NativeCodeLoader: Unable to load native-hadoop library for your platform... using builtin-java classes where applicable\n"
     ]
    },
    {
     "name": "stderr",
     "output_type": "stream",
     "text": [
      "Setting default log level to \"WARN\".\n",
      "To adjust logging level use sc.setLogLevel(newLevel). For SparkR, use setLogLevel(newLevel).\n"
     ]
    }
   ],
   "source": [
    "conf = SparkConf().setAppName(\"KafkaExp\")\n",
    "kafka_packages = [\n",
    "    f'org.apache.spark:spark-sql-kafka-0-10_{\"2.12\"}:{\"3.3.0\"}',\n",
    "    'org.apache.kafka:kafka-clients:2.8.0',\n",
    "    \"org.apache.hadoop:hadoop-aws:3.3.0\",\n",
    "    \"com.google.guava:guava:21.0\",\n",
    "    \"org.apache.httpcomponents:httpcore:4.4.8\",\n",
    "    \"org.mongodb.spark:mongo-spark-connector_2.12:3.0.1\"\n",
    "]\n",
    "conf = conf.setMaster('local[*]').set('spark.jars.packages', ','.join(kafka_packages))\n",
    "sc = SparkContext(conf=conf)"
   ]
  },
  {
   "cell_type": "code",
   "execution_count": 4,
   "id": "1082fbda-df3c-4573-b527-3fe7e9d5af74",
   "metadata": {},
   "outputs": [
    {
     "name": "stdout",
     "output_type": "stream",
     "text": [
      "Loaded jars:\n",
      "[\n",
      "  \"spark://c901c2116227:32791/jars/commons-logging_commons-logging-1.1.3.jar\",\n",
      "  \"spark://c901c2116227:32791/jars/com.google.guava_guava-21.0.jar\",\n",
      "  \"spark://c901c2116227:32791/jars/com.amazonaws_aws-java-sdk-bundle-1.11.563.jar\",\n",
      "  \"spark://c901c2116227:32791/jars/org.mongodb_mongodb-driver-core-4.0.5.jar\",\n",
      "  \"spark://c901c2116227:32791/jars/org.apache.hadoop_hadoop-client-api-3.3.2.jar\",\n",
      "  \"spark://c901c2116227:32791/jars/org.mongodb_bson-4.0.5.jar\",\n",
      "  \"spark://c901c2116227:32791/jars/org.apache.httpcomponents_httpcore-4.4.8.jar\",\n",
      "  \"spark://c901c2116227:32791/jars/org.mongodb.spark_mongo-spark-connector_2.12-3.0.1.jar\",\n",
      "  \"spark://c901c2116227:32791/jars/org.apache.commons_commons-pool2-2.11.1.jar\",\n",
      "  \"spark://c901c2116227:32791/jars/org.wildfly.openssl_wildfly-openssl-1.0.7.Final.jar\",\n",
      "  \"spark://c901c2116227:32791/jars/org.apache.hadoop_hadoop-aws-3.3.0.jar\",\n",
      "  \"spark://c901c2116227:32791/jars/org.spark-project.spark_unused-1.0.0.jar\",\n",
      "  \"spark://c901c2116227:32791/jars/org.lz4_lz4-java-1.8.0.jar\",\n",
      "  \"spark://c901c2116227:32791/jars/org.xerial.snappy_snappy-java-1.1.8.4.jar\",\n",
      "  \"spark://c901c2116227:32791/jars/org.apache.spark_spark-sql-kafka-0-10_2.12-3.3.0.jar\",\n",
      "  \"spark://c901c2116227:32791/jars/org.apache.hadoop_hadoop-client-runtime-3.3.2.jar\",\n",
      "  \"spark://c901c2116227:32791/jars/org.apache.spark_spark-token-provider-kafka-0-10_2.12-3.3.0.jar\",\n",
      "  \"spark://c901c2116227:32791/jars/com.google.code.findbugs_jsr305-3.0.0.jar\",\n",
      "  \"spark://c901c2116227:32791/jars/org.apache.kafka_kafka-clients-2.8.1.jar\",\n",
      "  \"spark://c901c2116227:32791/jars/org.mongodb_mongodb-driver-sync-4.0.5.jar\",\n",
      "  \"spark://c901c2116227:32791/jars/org.slf4j_slf4j-api-1.7.32.jar\"\n",
      "]\n"
     ]
    }
   ],
   "source": [
    "print(\n",
    "    f'Loaded jars:\\n{json.dumps((sc._jsc.sc().listJars().toList().toString().replace(\"List(\", \"\").replace(\")\", \"\").split(\", \")), indent=2)}')"
   ]
  },
  {
   "cell_type": "code",
   "execution_count": 5,
   "id": "a3dd44d2-a0a3-453e-8dfc-0ea16b900018",
   "metadata": {},
   "outputs": [],
   "source": [
    "spark = SparkSession(sc)"
   ]
  },
  {
   "cell_type": "code",
   "execution_count": 6,
   "id": "e3e35be1-f058-4034-becb-939341821770",
   "metadata": {},
   "outputs": [],
   "source": [
    "import datetime as dt\n",
    "df = spark.read.option(\"header\", True).csv(\"taxi_small.csv\")"
   ]
  },
  {
   "cell_type": "code",
   "execution_count": 7,
   "id": "1d52d469-f4bd-4ff2-8c5f-e07e9c63cee5",
   "metadata": {},
   "outputs": [],
   "source": [
    "mongoURL = \"mongodb://mongo:27017/transactions.data\"\n",
    "df.write.format(\"mongo\").mode(\"append\").option(\"uri\",mongoURL).save()"
   ]
  },
  {
   "cell_type": "code",
   "execution_count": 5,
   "id": "e4b8735a-19dd-43c7-843f-078b92cdd029",
   "metadata": {},
   "outputs": [
    {
     "name": "stdout",
     "output_type": "stream",
     "text": [
      "root\n",
      " |-- VendorID: string (nullable = true)\n",
      " |-- tpep_pickup_datetime: string (nullable = true)\n",
      " |-- tpep_dropoff_datetime: string (nullable = true)\n",
      " |-- passenger_count: string (nullable = true)\n",
      " |-- trip_distance: string (nullable = true)\n",
      " |-- pickup_longitude: string (nullable = true)\n",
      " |-- pickup_latitude: string (nullable = true)\n",
      " |-- RateCodeID: string (nullable = true)\n",
      " |-- store_and_fwd_flag: string (nullable = true)\n",
      " |-- dropoff_longitude: string (nullable = true)\n",
      " |-- dropoff_latitude: string (nullable = true)\n",
      " |-- payment_type: string (nullable = true)\n",
      " |-- fare_amount: string (nullable = true)\n",
      " |-- extra: string (nullable = true)\n",
      " |-- mta_tax: string (nullable = true)\n",
      " |-- tip_amount: string (nullable = true)\n",
      " |-- tolls_amount: string (nullable = true)\n",
      " |-- improvement_surcharge: string (nullable = true)\n",
      " |-- total_amount: string (nullable = true)\n",
      "\n"
     ]
    }
   ],
   "source": [
    "df.printSchema()"
   ]
  },
  {
   "cell_type": "code",
   "execution_count": 8,
   "id": "29d12fb3-30c9-47a2-bee0-a81dd9fa983e",
   "metadata": {},
   "outputs": [
    {
     "name": "stdout",
     "output_type": "stream",
     "text": [
      "root\n",
      " |-- VendorID: integer (nullable = true)\n",
      " |-- tpep_pickup_datetime: string (nullable = true)\n",
      " |-- tpep_dropoff_datetime: string (nullable = true)\n",
      " |-- passenger_count: integer (nullable = true)\n",
      " |-- trip_distance: double (nullable = true)\n",
      " |-- pickup_longitude: double (nullable = true)\n",
      " |-- pickup_latitude: double (nullable = true)\n",
      " |-- RateCodeID: integer (nullable = true)\n",
      " |-- store_and_fwd_flag: string (nullable = true)\n",
      " |-- dropoff_longitude: double (nullable = true)\n",
      " |-- dropoff_latitude: double (nullable = true)\n",
      " |-- payment_type: integer (nullable = true)\n",
      " |-- fare_amount: double (nullable = true)\n",
      " |-- extra: double (nullable = true)\n",
      " |-- mta_tax: double (nullable = true)\n",
      " |-- tip_amount: double (nullable = true)\n",
      " |-- tolls_amount: double (nullable = true)\n",
      " |-- improvement_surcharge: double (nullable = true)\n",
      " |-- total_amount: double (nullable = true)\n",
      "\n"
     ]
    }
   ],
   "source": [
    "df2 = spark.read.option(\"header\", True).option(\"inferSchema\",\"true\").csv(\"taxi.csv\")\n",
    "df2.printSchema()"
   ]
  },
  {
   "cell_type": "code",
   "execution_count": 21,
   "id": "6d2a22ae-c64a-4626-963d-86d8e62f3263",
   "metadata": {},
   "outputs": [],
   "source": [
    "from pyspark.sql.types import StructType,StructField, StringType, IntegerType,FloatType,DoubleType\n",
    "schema = StructType().add(\"VendorID\", StringType(), True)\\\n",
    "                    .add(\"total_amount\",FloatType(),True)\\\n",
    "                    .add(\"trip_distancet\",DoubleType(),True)"
   ]
  },
  {
   "cell_type": "code",
   "execution_count": 22,
   "id": "451608e1-99fa-4bcc-8c52-a7b8a73debee",
   "metadata": {},
   "outputs": [
    {
     "name": "stdout",
     "output_type": "stream",
     "text": [
      "root\n",
      " |-- VendorID: string (nullable = true)\n",
      " |-- total_amount: float (nullable = true)\n",
      " |-- trip_distancet: double (nullable = true)\n",
      "\n"
     ]
    }
   ],
   "source": [
    "df3 = spark.read.option(\"header\", True).schema(schema).csv(\"taxi.csv\")\n",
    "df3.printSchema()"
   ]
  },
  {
   "cell_type": "code",
   "execution_count": null,
   "id": "0cf45bab-846f-439b-84b5-cf99714516c7",
   "metadata": {},
   "outputs": [],
   "source": []
  },
  {
   "cell_type": "code",
   "execution_count": 15,
   "id": "7d905feb-55ab-47ae-8f02-be732065eb2b",
   "metadata": {},
   "outputs": [],
   "source": []
  },
  {
   "cell_type": "code",
   "execution_count": 13,
   "id": "f47614a6-6329-4591-9b88-d1308478200c",
   "metadata": {},
   "outputs": [
    {
     "name": "stdout",
     "output_type": "stream",
     "text": [
      "root\n",
      " |-- VendorID: string (nullable = true)\n",
      " |-- tpep_pickup_datetime: string (nullable = true)\n",
      " |-- tpep_dropoff_datetime: string (nullable = true)\n",
      " |-- passenger_count: string (nullable = true)\n",
      " |-- trip_distance: string (nullable = true)\n",
      " |-- pickup_longitude: string (nullable = true)\n",
      " |-- pickup_latitude: string (nullable = true)\n",
      " |-- RateCodeID: string (nullable = true)\n",
      " |-- store_and_fwd_flag: string (nullable = true)\n",
      " |-- dropoff_longitude: string (nullable = true)\n",
      " |-- dropoff_latitude: string (nullable = true)\n",
      " |-- payment_type: string (nullable = true)\n",
      " |-- fare_amount: string (nullable = true)\n",
      " |-- extra: string (nullable = true)\n",
      " |-- mta_tax: string (nullable = true)\n",
      " |-- tip_amount: string (nullable = true)\n",
      " |-- tolls_amount: string (nullable = true)\n",
      " |-- improvement_surcharge: string (nullable = true)\n",
      " |-- total_amount: string (nullable = true)\n",
      "\n"
     ]
    }
   ],
   "source": [
    "df.printSchema()"
   ]
  },
  {
   "cell_type": "code",
   "execution_count": 7,
   "id": "33f38dab-0980-46c8-9c77-eb95f02bab9d",
   "metadata": {},
   "outputs": [],
   "source": [
    "mongoURL = \"mongodb://mongo:27017/test.user\"\n",
    "df.write.format(\"mongo\").mode(\"append\").option(\"uri\",mongoURL).save()"
   ]
  },
  {
   "cell_type": "code",
   "execution_count": 1,
   "id": "41ad7ab8-e692-4f2e-bc16-9b2a64c2eb5e",
   "metadata": {},
   "outputs": [],
   "source": [
    "import pymongo\n",
    "from pymongo import MongoClient\n",
    "client = MongoClient()\n",
    "client = MongoClient(\"mongodb://mongo:27017/\")"
   ]
  },
  {
   "cell_type": "code",
   "execution_count": 2,
   "id": "341a7eea-138d-40ec-8214-9033f40e19eb",
   "metadata": {},
   "outputs": [
    {
     "name": "stdout",
     "output_type": "stream",
     "text": [
      "{'name': 'admin', 'sizeOnDisk': 65536.0, 'empty': False}\n",
      "{'name': 'config', 'sizeOnDisk': 8192.0, 'empty': False}\n",
      "{'name': 'local', 'sizeOnDisk': 323584.0, 'empty': False}\n"
     ]
    }
   ],
   "source": [
    "for db in client.list_databases():\n",
    "    print(db)"
   ]
  },
  {
   "cell_type": "code",
   "execution_count": null,
   "id": "454f6480-5809-4c96-8abf-bfa1c5b98a36",
   "metadata": {},
   "outputs": [],
   "source": [
    "client.close()"
   ]
  },
  {
   "cell_type": "code",
   "execution_count": 17,
   "id": "31e20c45-cdf9-4d50-a219-72380c470813",
   "metadata": {},
   "outputs": [
    {
     "name": "stdout",
     "output_type": "stream",
     "text": [
      "+--------+-----+\n",
      "|VendorID|count|\n",
      "+--------+-----+\n",
      "|       1|   14|\n",
      "|       2|    6|\n",
      "+--------+-----+\n",
      "\n"
     ]
    }
   ],
   "source": [
    "df.groupBy(\"VendorID\").count().show()"
   ]
  },
  {
   "cell_type": "code",
   "execution_count": 16,
   "id": "4dffeee2-395f-49d7-bedb-007231acab04",
   "metadata": {},
   "outputs": [
    {
     "data": {
      "text/plain": [
       "MongoClient(host=['mongo:27017'], document_class=dict, tz_aware=False, connect=True)"
      ]
     },
     "execution_count": 16,
     "metadata": {},
     "output_type": "execute_result"
    }
   ],
   "source": []
  },
  {
   "cell_type": "code",
   "execution_count": 10,
   "id": "e68db346-70b8-4991-a742-05814edcfec1",
   "metadata": {},
   "outputs": [
    {
     "name": "stdout",
     "output_type": "stream",
     "text": [
      "root\n",
      " |-- VendorID: string (nullable = true)\n",
      " |-- tpep_pickup_datetime: string (nullable = true)\n",
      " |-- tpep_dropoff_datetime: string (nullable = true)\n",
      " |-- passenger_count: string (nullable = true)\n",
      " |-- trip_distance: string (nullable = true)\n",
      " |-- pickup_longitude: string (nullable = true)\n",
      " |-- pickup_latitude: string (nullable = true)\n",
      " |-- RateCodeID: string (nullable = true)\n",
      " |-- store_and_fwd_flag: string (nullable = true)\n",
      " |-- dropoff_longitude: string (nullable = true)\n",
      " |-- dropoff_latitude: string (nullable = true)\n",
      " |-- payment_type: string (nullable = true)\n",
      " |-- fare_amount: string (nullable = true)\n",
      " |-- extra: string (nullable = true)\n",
      " |-- mta_tax: string (nullable = true)\n",
      " |-- tip_amount: string (nullable = true)\n",
      " |-- tolls_amount: string (nullable = true)\n",
      " |-- improvement_surcharge: string (nullable = true)\n",
      " |-- total_amount: string (nullable = true)\n",
      "\n"
     ]
    }
   ],
   "source": [
    "df.printSchema()"
   ]
  },
  {
   "cell_type": "code",
   "execution_count": 17,
   "id": "43849866-008a-46b5-8371-e60d5c8b9c44",
   "metadata": {},
   "outputs": [],
   "source": [
    "conf = SparkConf().setAppName(\"test\").setMaster(\"local[*]\")"
   ]
  },
  {
   "cell_type": "code",
   "execution_count": 18,
   "id": "2ff47436-950a-45c1-958e-63c10a97cf9a",
   "metadata": {},
   "outputs": [],
   "source": [
    "scc = SparkContext(conf=conf)"
   ]
  },
  {
   "cell_type": "code",
   "execution_count": 19,
   "id": "78c0ae54-653d-46d1-a44c-382907217d8a",
   "metadata": {},
   "outputs": [],
   "source": [
    "spark = SparkSession(scc)"
   ]
  },
  {
   "cell_type": "code",
   "execution_count": 9,
   "id": "a6a7feaa-d3a4-4907-9116-4ab0ac4d9ea4",
   "metadata": {},
   "outputs": [],
   "source": [
    "schema = pickle.load(open(\"schema.pkl\", 'rb'))"
   ]
  },
  {
   "cell_type": "code",
   "execution_count": 21,
   "id": "bd4b1edc-51fa-4d2b-9963-7d0ccbd6122c",
   "metadata": {},
   "outputs": [
    {
     "name": "stdout",
     "output_type": "stream",
     "text": [
      "+--------------------+--------------------+--------------------+--------------------+--------------------+------------+\n",
      "|              awards|               birth|            contribs|               death|                name|       title|\n",
      "+--------------------+--------------------+--------------------+--------------------+--------------------+------------+\n",
      "|[{W.W. McDowell A...|1924-12-03T05:00:00Z|[Fortran, ALGOL, ...|2007-03-17T04:00:00Z|{null, John, Backus}|        null|\n",
      "|[{Turing Award, A...|1927-09-04T04:00:00Z|[Lisp, Artificial...|2011-12-24T05:00:00Z|{null, John, McCa...|        null|\n",
      "|[{Computer Scienc...|1906-12-09T05:00:00Z|[UNIVAC, compiler...|1992-01-01T05:00:00Z|{null, Grace, Hop...|Rear Admiral|\n",
      "|[{Rosing Prize, N...|1926-08-27T04:00:00Z|       [OOP, Simula]|2002-08-10T04:00:00Z|{null, Kristen, N...|        null|\n",
      "|[{Rosing Prize, N...|1931-10-12T04:00:00Z|       [OOP, Simula]|2002-06-29T04:00:00Z|{null, Ole-Johan,...|        null|\n",
      "|[{Award for the A...|1956-01-31T05:00:00Z|            [Python]|                null|{null, Guido, van...|        null|\n",
      "|[{Turing Award, A...|1941-09-09T04:00:00Z|           [UNIX, C]|2011-10-12T04:00:00Z|{null, Dennis, Ri...|        null|\n",
      "|[{Award for the A...|1965-04-14T04:00:00Z|              [Ruby]|                null|{Matz, Yukihiro, ...|        null|\n",
      "|[{The Economist I...|1955-05-19T04:00:00Z|              [Java]|                null|{null, James, Gos...|        null|\n",
      "|                null|1955-05-19T04:00:00Z|             [Scala]|                null|{null, Martin, Od...|        null|\n",
      "+--------------------+--------------------+--------------------+--------------------+--------------------+------------+\n",
      "\n"
     ]
    }
   ],
   "source": [
    "#query 1 .alias(\"language\")\n",
    "\n",
    "import datetime as dt\n",
    "df = spark.read.schema(schema).option(\"multiline\",\"true\").json(\"data.json\")\n",
    "df.show()\n",
    "# x = df.selectExpr(\"CAST(birth AS DATE)\",\"CAST(death AS DATE)\")\n",
    "\n",
    "# y = x.withColumn('death', F.when(F.col('death').isNull(), dt.datetime.now().date()).otherwise(F.col('death')))\n",
    "# y.show()\n",
    "# z= y.withColumn(\"Age\", F.year(F.col(\"death\"))-F.year(F.col(\"birth\")))\n",
    "# z.show()"
   ]
  },
  {
   "cell_type": "code",
   "execution_count": 11,
   "id": "5c1fb547-dae7-42dc-95e1-62f8714dc503",
   "metadata": {},
   "outputs": [
    {
     "name": "stdout",
     "output_type": "stream",
     "text": [
      "+------------+\n",
      "|num_contribs|\n",
      "+------------+\n",
      "|           4|\n",
      "|           3|\n",
      "|           4|\n",
      "|           2|\n",
      "|           2|\n",
      "|           1|\n",
      "|           2|\n",
      "|           1|\n",
      "|           1|\n",
      "|           1|\n",
      "+------------+\n",
      "\n"
     ]
    }
   ],
   "source": [
    "# query 2\n",
    "\n",
    "df.select(F.size(F.col(\"contribs\")).alias(\"num_contribs\")).show()"
   ]
  },
  {
   "cell_type": "code",
   "execution_count": 12,
   "id": "be43e54e-e219-47c2-9361-dba9bc051467",
   "metadata": {},
   "outputs": [
    {
     "name": "stderr",
     "output_type": "stream",
     "text": [
      "[Stage 2:>                                                          (0 + 1) / 1]\r"
     ]
    },
    {
     "name": "stdout",
     "output_type": "stream",
     "text": [
      "+------------+\n",
      "|min_max     |\n",
      "+------------+\n",
      "|[1967, 1993]|\n",
      "|[1971, 1990]|\n",
      "|[1969, 1991]|\n",
      "|[1999, 2001]|\n",
      "|[1999, 2001]|\n",
      "|[2001, 2003]|\n",
      "|[1983, 2011]|\n",
      "|[2011, 2011]|\n",
      "|[2002, 2007]|\n",
      "|[]          |\n",
      "+------------+\n",
      "\n"
     ]
    },
    {
     "name": "stderr",
     "output_type": "stream",
     "text": [
      "                                                                                \r"
     ]
    }
   ],
   "source": [
    "# query 3\n",
    "from pyspark.sql.types import ArrayType,StringType\n",
    "\n",
    "def min_max(awards_year):\n",
    "    mina = 10000\n",
    "    maxa = 0\n",
    "    # temp = []\n",
    "    if awards_year is None:\n",
    "        return []\n",
    "    for year in awards_year:\n",
    "        # temp.append(int(year))\n",
    "        if int(year)>maxa:\n",
    "            maxa = int(year)\n",
    "            \n",
    "        if int(year)<mina:\n",
    "            mina = int(year)\n",
    "    # ,[min(temp),max(temp)]\n",
    "    return [mina,maxa]\n",
    "\n",
    "\n",
    "convertUDF = F.udf(lambda z: min_max(z))\n",
    "df.select(convertUDF(F.col(\"awards.year\")).alias(\"min_max\") ).show(truncate=False)"
   ]
  },
  {
   "cell_type": "code",
   "execution_count": 13,
   "id": "872ee0a1-9971-4da5-b9af-8ee2ef525367",
   "metadata": {},
   "outputs": [
    {
     "name": "stdout",
     "output_type": "stream",
     "text": [
      "+--------------------+---+------------+------------+\n",
      "|                name|age|num_contribs|     min_max|\n",
      "+--------------------+---+------------+------------+\n",
      "|{null, John, Backus}| 83|           4|[1967, 1993]|\n",
      "|{null, John, McCa...| 84|           3|[1971, 1990]|\n",
      "|{null, Grace, Hop...| 86|           4|[1969, 1991]|\n",
      "|{null, Kristen, N...| 76|           2|[1999, 2001]|\n",
      "|{null, Ole-Johan,...| 71|           2|[1999, 2001]|\n",
      "|{null, Guido, van...| 66|           1|[2001, 2003]|\n",
      "|{null, Dennis, Ri...| 70|           2|[1983, 2011]|\n",
      "|{Matz, Yukihiro, ...| 57|           1|[2011, 2011]|\n",
      "|{null, James, Gos...| 67|           1|[2002, 2007]|\n",
      "|{null, Martin, Od...| 67|           1|          []|\n",
      "+--------------------+---+------------+------------+\n",
      "\n"
     ]
    }
   ],
   "source": [
    "df = df.selectExpr(\"name\",\"contribs\",\"awards\",\"CAST(birth AS DATE)\",\"CAST(death AS DATE)\")\n",
    "df = df.withColumn('death', F.when(F.col('death').isNull(), dt.datetime.now().date()).otherwise(F.col('death')))\n",
    "df= df.withColumn(\"age\", F.year(F.col(\"death\"))-F.year(F.col(\"birth\")))\n",
    "final = df.select(F.col(\"name\"), F.col(\"age\"),F.size(F.col(\"contribs\")).alias(\"num_contribs\"), convertUDF(F.col(\"awards.year\")).alias(\"min_max\"))\n",
    "final.show()\n"
   ]
  },
  {
   "cell_type": "code",
   "execution_count": 14,
   "id": "131dd4f7-a0a9-4c37-8fed-fbc24a99c717",
   "metadata": {},
   "outputs": [],
   "source": [
    "mongoURL = \"mongodb://mongo:27017/test.user\""
   ]
  },
  {
   "cell_type": "code",
   "execution_count": 15,
   "id": "9d7a7bef-78dd-46d9-80b9-1c50f2593801",
   "metadata": {},
   "outputs": [],
   "source": [
    "final.write.format(\"mongo\").mode(\"append\").option(\"uri\",mongoURL).save()"
   ]
  },
  {
   "cell_type": "code",
   "execution_count": 12,
   "id": "6833c7f3-0f83-44e6-a0da-afa18a4d417a",
   "metadata": {},
   "outputs": [],
   "source": [
    "final.write.mode(\"append\").parquet(\"new2.parquet\")"
   ]
  },
  {
   "cell_type": "code",
   "execution_count": 13,
   "id": "6425bcce-a106-4a7b-9c50-92c4ec960c4b",
   "metadata": {},
   "outputs": [
    {
     "name": "stdout",
     "output_type": "stream",
     "text": [
      "+--------------------+---+------------+------------+\n",
      "|                name|age|num_contribs|     min_max|\n",
      "+--------------------+---+------------+------------+\n",
      "|{null, John, Backus}| 83|           4|[1967, 1993]|\n",
      "|{null, John, McCa...| 84|           3|[1971, 1990]|\n",
      "|{null, Grace, Hop...| 86|           4|[1969, 1991]|\n",
      "|{null, Kristen, N...| 76|           2|[1999, 2001]|\n",
      "|{null, Ole-Johan,...| 71|           2|[1999, 2001]|\n",
      "|{null, Guido, van...| 66|           1|[2001, 2003]|\n",
      "|{null, Dennis, Ri...| 70|           2|[1983, 2011]|\n",
      "|{Matz, Yukihiro, ...| 57|           1|[2011, 2011]|\n",
      "|{null, James, Gos...| 67|           1|[2002, 2007]|\n",
      "|{null, Martin, Od...| 67|           1|          []|\n",
      "+--------------------+---+------------+------------+\n",
      "\n"
     ]
    }
   ],
   "source": [
    "df = spark.read.parquet(\"new2.parquet\")\n",
    "df.show()"
   ]
  }
 ],
 "metadata": {
  "kernelspec": {
   "display_name": "Python 3 (ipykernel)",
   "language": "python",
   "name": "python3"
  },
  "language_info": {
   "codemirror_mode": {
    "name": "ipython",
    "version": 3
   },
   "file_extension": ".py",
   "mimetype": "text/x-python",
   "name": "python",
   "nbconvert_exporter": "python",
   "pygments_lexer": "ipython3",
   "version": "3.8.15"
  }
 },
 "nbformat": 4,
 "nbformat_minor": 5
}
