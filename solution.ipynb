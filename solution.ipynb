{
 "cells": [
  {
   "cell_type": "code",
   "execution_count": 1,
   "id": "1ef828d9-dec6-4dae-a328-c66aa98d7cc5",
   "metadata": {},
   "outputs": [],
   "source": [
    "import pyspark.sql.functions as F\n",
    "import pyspark.sql.types as T\n",
    "from pyspark import SparkContext, SparkConf\n",
    "from pyspark.sql import SparkSession\n",
    "import json\n",
    "import logging\n",
    "import pickle\n",
    "import time\n",
    "import datetime"
   ]
  },
  {
   "cell_type": "code",
   "execution_count": 2,
   "id": "43849866-008a-46b5-8371-e60d5c8b9c44",
   "metadata": {},
   "outputs": [],
   "source": [
    "conf = SparkConf().setAppName(\"test\").setMaster(\"local[*]\")"
   ]
  },
  {
   "cell_type": "code",
   "execution_count": 3,
   "id": "2ff47436-950a-45c1-958e-63c10a97cf9a",
   "metadata": {},
   "outputs": [
    {
     "name": "stderr",
     "output_type": "stream",
     "text": [
      "Setting default log level to \"WARN\".\n",
      "To adjust logging level use sc.setLogLevel(newLevel). For SparkR, use setLogLevel(newLevel).\n"
     ]
    },
    {
     "name": "stdout",
     "output_type": "stream",
     "text": [
      "22/12/14 16:01:03 WARN NativeCodeLoader: Unable to load native-hadoop library for your platform... using builtin-java classes where applicable\n"
     ]
    }
   ],
   "source": [
    "scc = SparkContext(conf=conf)"
   ]
  },
  {
   "cell_type": "code",
   "execution_count": 4,
   "id": "78c0ae54-653d-46d1-a44c-382907217d8a",
   "metadata": {},
   "outputs": [],
   "source": [
    "spark = SparkSession(scc)"
   ]
  },
  {
   "cell_type": "code",
   "execution_count": 5,
   "id": "a6a7feaa-d3a4-4907-9116-4ab0ac4d9ea4",
   "metadata": {},
   "outputs": [],
   "source": [
    "schema = pickle.load(open(\"schema.pkl\", 'rb'))"
   ]
  },
  {
   "cell_type": "code",
   "execution_count": 6,
   "id": "bd4b1edc-51fa-4d2b-9963-7d0ccbd6122c",
   "metadata": {},
   "outputs": [
    {
     "name": "stdout",
     "output_type": "stream",
     "text": [
      "+----------+----------+---+\n",
      "|     birth|     death|Age|\n",
      "+----------+----------+---+\n",
      "|1924-12-03|2007-03-17| 83|\n",
      "|1927-09-04|2011-12-24| 84|\n",
      "|1906-12-09|1992-01-01| 86|\n",
      "|1926-08-27|2002-08-10| 76|\n",
      "|1931-10-12|2002-06-29| 71|\n",
      "|1956-01-31|2022-12-14| 66|\n",
      "|1941-09-09|2011-10-12| 70|\n",
      "|1965-04-14|2022-12-14| 57|\n",
      "|1955-05-19|2022-12-14| 67|\n",
      "|1955-05-19|2022-12-14| 67|\n",
      "+----------+----------+---+\n",
      "\n"
     ]
    }
   ],
   "source": [
    "#query 1 .alias(\"language\")\n",
    "\n",
    "import datetime as dt\n",
    "df = spark.read.schema(schema).option(\"multiline\",\"true\").json(\"data.json\")\n",
    "x = df.selectExpr(\"CAST(birth AS DATE)\",\"CAST(death AS DATE)\")\n",
    "y = x.withColumn('death', F.when(F.col('death').isNull(), dt.datetime.now().date()).otherwise(F.col('death')))\n",
    "z= y.withColumn(\"Age\", F.year(F.col(\"death\"))-F.year(F.col(\"birth\")))\n",
    "z.show()"
   ]
  },
  {
   "cell_type": "code",
   "execution_count": 7,
   "id": "5c1fb547-dae7-42dc-95e1-62f8714dc503",
   "metadata": {},
   "outputs": [
    {
     "name": "stdout",
     "output_type": "stream",
     "text": [
      "+------------+\n",
      "|num_contribs|\n",
      "+------------+\n",
      "|           4|\n",
      "|           3|\n",
      "|           4|\n",
      "|           2|\n",
      "|           2|\n",
      "|           1|\n",
      "|           2|\n",
      "|           1|\n",
      "|           1|\n",
      "|           1|\n",
      "+------------+\n",
      "\n"
     ]
    }
   ],
   "source": [
    "# query 2\n",
    "\n",
    "df.select(F.size(F.col(\"contribs\")).alias(\"num_contribs\")).show()"
   ]
  },
  {
   "cell_type": "code",
   "execution_count": 8,
   "id": "be43e54e-e219-47c2-9361-dba9bc051467",
   "metadata": {},
   "outputs": [
    {
     "name": "stdout",
     "output_type": "stream",
     "text": [
      "+------------+\n",
      "|min_max     |\n",
      "+------------+\n",
      "|[1967, 1993]|\n",
      "|[1971, 1990]|\n",
      "|[1969, 1991]|\n",
      "|[1999, 2001]|\n",
      "|[1999, 2001]|\n",
      "|[2001, 2003]|\n",
      "|[1983, 2011]|\n",
      "|[2011, 2011]|\n",
      "|[2002, 2007]|\n",
      "|[]          |\n",
      "+------------+\n",
      "\n"
     ]
    },
    {
     "name": "stderr",
     "output_type": "stream",
     "text": [
      "                                                                                \r"
     ]
    }
   ],
   "source": [
    "# query 3\n",
    "from pyspark.sql.types import ArrayType,StringType\n",
    "\n",
    "def min_max(awards_year):\n",
    "    mina = 10000\n",
    "    maxa = 0\n",
    "    # temp = []\n",
    "    if awards_year is None:\n",
    "        return []\n",
    "    for year in awards_year:\n",
    "        # temp.append(int(year))\n",
    "        if int(year)>maxa:\n",
    "            maxa = int(year)\n",
    "            \n",
    "        if int(year)<mina:\n",
    "            mina = int(year)\n",
    "    # ,[min(temp),max(temp)]\n",
    "    return [mina,maxa]\n",
    "\n",
    "\n",
    "convertUDF = F.udf(lambda z: min_max(z))\n",
    "df.select(convertUDF(F.col(\"awards.year\")).alias(\"min_max\") ).show(truncate=False)"
   ]
  },
  {
   "cell_type": "code",
   "execution_count": 9,
   "id": "872ee0a1-9971-4da5-b9af-8ee2ef525367",
   "metadata": {},
   "outputs": [
    {
     "name": "stdout",
     "output_type": "stream",
     "text": [
      "+--------------------+---+------------+------------+\n",
      "|                name|age|num_contribs|     min_max|\n",
      "+--------------------+---+------------+------------+\n",
      "|{null, John, Backus}| 83|           4|[1967, 1993]|\n",
      "|{null, John, McCa...| 84|           3|[1971, 1990]|\n",
      "|{null, Grace, Hop...| 86|           4|[1969, 1991]|\n",
      "|{null, Kristen, N...| 76|           2|[1999, 2001]|\n",
      "|{null, Ole-Johan,...| 71|           2|[1999, 2001]|\n",
      "|{null, Guido, van...| 66|           1|[2001, 2003]|\n",
      "|{null, Dennis, Ri...| 70|           2|[1983, 2011]|\n",
      "|{Matz, Yukihiro, ...| 57|           1|[2011, 2011]|\n",
      "|{null, James, Gos...| 67|           1|[2002, 2007]|\n",
      "|{null, Martin, Od...| 67|           1|          []|\n",
      "+--------------------+---+------------+------------+\n",
      "\n"
     ]
    }
   ],
   "source": [
    "df = df.selectExpr(\"name\",\"contribs\",\"awards\",\"CAST(birth AS DATE)\",\"CAST(death AS DATE)\")\n",
    "df = df.withColumn('death', F.when(F.col('death').isNull(), dt.datetime.now().date()).otherwise(F.col('death')))\n",
    "df= df.withColumn(\"age\", F.year(F.col(\"death\"))-F.year(F.col(\"birth\")))\n",
    "final = df.select(F.col(\"name\"), F.col(\"age\"),F.size(F.col(\"contribs\")).alias(\"num_contribs\"), convertUDF(F.col(\"awards.year\")).alias(\"min_max\"))\n",
    "final.show()\n"
   ]
  },
  {
   "cell_type": "code",
   "execution_count": 12,
   "id": "6833c7f3-0f83-44e6-a0da-afa18a4d417a",
   "metadata": {},
   "outputs": [],
   "source": [
    "final.write.mode(\"append\").parquet(\"new2.parquet\")"
   ]
  },
  {
   "cell_type": "code",
   "execution_count": 13,
   "id": "6425bcce-a106-4a7b-9c50-92c4ec960c4b",
   "metadata": {},
   "outputs": [
    {
     "name": "stdout",
     "output_type": "stream",
     "text": [
      "+--------------------+---+------------+------------+\n",
      "|                name|age|num_contribs|     min_max|\n",
      "+--------------------+---+------------+------------+\n",
      "|{null, John, Backus}| 83|           4|[1967, 1993]|\n",
      "|{null, John, McCa...| 84|           3|[1971, 1990]|\n",
      "|{null, Grace, Hop...| 86|           4|[1969, 1991]|\n",
      "|{null, Kristen, N...| 76|           2|[1999, 2001]|\n",
      "|{null, Ole-Johan,...| 71|           2|[1999, 2001]|\n",
      "|{null, Guido, van...| 66|           1|[2001, 2003]|\n",
      "|{null, Dennis, Ri...| 70|           2|[1983, 2011]|\n",
      "|{Matz, Yukihiro, ...| 57|           1|[2011, 2011]|\n",
      "|{null, James, Gos...| 67|           1|[2002, 2007]|\n",
      "|{null, Martin, Od...| 67|           1|          []|\n",
      "+--------------------+---+------------+------------+\n",
      "\n"
     ]
    }
   ],
   "source": [
    "df = spark.read.parquet(\"new2.parquet\")\n",
    "df.show()"
   ]
  }
 ],
 "metadata": {
  "kernelspec": {
   "display_name": "Python 3 (ipykernel)",
   "language": "python",
   "name": "python3"
  },
  "language_info": {
   "codemirror_mode": {
    "name": "ipython",
    "version": 3
   },
   "file_extension": ".py",
   "mimetype": "text/x-python",
   "name": "python",
   "nbconvert_exporter": "python",
   "pygments_lexer": "ipython3",
   "version": "3.8.15"
  }
 },
 "nbformat": 4,
 "nbformat_minor": 5
}
