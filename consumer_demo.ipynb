{
 "cells": [
  {
   "cell_type": "markdown",
   "id": "35be028d-aac0-4997-9eff-b7ee7ef93803",
   "metadata": {},
   "source": [
    "# Import"
   ]
  },
  {
   "cell_type": "code",
   "execution_count": 2,
   "id": "1ef828d9-dec6-4dae-a328-c66aa98d7cc5",
   "metadata": {},
   "outputs": [],
   "source": [
    "import pyspark.sql.functions as F\n",
    "import pyspark.sql.types as T\n",
    "from pyspark import SparkContext, SparkConf\n",
    "from pyspark.sql import SparkSession\n",
    "import json\n",
    "import logging\n",
    "import pickle\n",
    "import time\n",
    "import datetime"
   ]
  },
  {
   "cell_type": "code",
   "execution_count": 3,
   "id": "dce06ed0-b3c8-42ac-81fc-ccf3f6b3a96d",
   "metadata": {},
   "outputs": [
    {
     "name": "stdout",
     "output_type": "stream",
     "text": [
      "{\n",
      "  \"global\": {\n",
      "    \"kafka_bootstrap_servers\": \"kafka:9092\",\n",
      "    \"kafka_topic\": \"test-structured-streaming\",\n",
      "    \"kafka_consumer_group\": \"ss_job\",\n",
      "    \"max_records_per_batch\": 20\n",
      "  }\n",
      "}\n"
     ]
    }
   ],
   "source": [
    "logging.basicConfig(level=logging.INFO)\n",
    "logger = logging.getLogger(\"consumer\")\n",
    "\n",
    "\n",
    "config = json.load(open(\"config.json\"))\n",
    "print(json.dumps(config, indent=2))"
   ]
  },
  {
   "cell_type": "markdown",
   "id": "3125e095-234e-46c2-918f-b157172b92ba",
   "metadata": {},
   "source": [
    "# Spark Packages"
   ]
  },
  {
   "cell_type": "code",
   "execution_count": 4,
   "id": "f4e4f98f-b29e-4566-ac9b-3dc94ad499b6",
   "metadata": {},
   "outputs": [],
   "source": [
    "kafka_packages = [\n",
    "    f'org.apache.spark:spark-sql-kafka-0-10_{\"2.12\"}:{\"3.3.0\"}',\n",
    "    'org.apache.kafka:kafka-clients:2.8.0',\n",
    "    \"org.apache.hadoop:hadoop-aws:3.3.0\",\n",
    "    \"com.google.guava:guava:21.0\",\n",
    "    \"org.apache.httpcomponents:httpcore:4.4.8\",\n",
    "    \"org.mongodb.spark:mongo-spark-connector_2.12:3.0.1\"\n",
    "]"
   ]
  },
  {
   "cell_type": "code",
   "execution_count": 5,
   "id": "d4e02d35-978d-49ae-b087-2a90cd3a92f9",
   "metadata": {},
   "outputs": [
    {
     "name": "stdout",
     "output_type": "stream",
     "text": [
      ":: loading settings :: url = jar:file:/opt/bitnami/spark/jars/ivy-2.5.0.jar!/org/apache/ivy/core/settings/ivysettings.xml\n"
     ]
    },
    {
     "name": "stderr",
     "output_type": "stream",
     "text": [
      "Ivy Default Cache set to: /root/.ivy2/cache\n",
      "The jars for the packages stored in: /root/.ivy2/jars\n",
      "org.apache.spark#spark-sql-kafka-0-10_2.12 added as a dependency\n",
      "org.apache.kafka#kafka-clients added as a dependency\n",
      "org.apache.hadoop#hadoop-aws added as a dependency\n",
      "com.google.guava#guava added as a dependency\n",
      "org.apache.httpcomponents#httpcore added as a dependency\n",
      "org.mongodb.spark#mongo-spark-connector_2.12 added as a dependency\n",
      ":: resolving dependencies :: org.apache.spark#spark-submit-parent-9347076a-3a1d-4725-9093-cdb8e3174dfc;1.0\n",
      "\tconfs: [default]\n",
      "\tfound org.apache.spark#spark-sql-kafka-0-10_2.12;3.3.0 in central\n",
      "\tfound org.apache.spark#spark-token-provider-kafka-0-10_2.12;3.3.0 in central\n",
      "\tfound org.apache.kafka#kafka-clients;2.8.1 in central\n",
      "\tfound org.lz4#lz4-java;1.8.0 in central\n",
      "\tfound org.xerial.snappy#snappy-java;1.1.8.4 in central\n",
      "\tfound org.slf4j#slf4j-api;1.7.32 in central\n",
      "\tfound org.apache.hadoop#hadoop-client-runtime;3.3.2 in central\n",
      "\tfound org.spark-project.spark#unused;1.0.0 in central\n",
      "\tfound org.apache.hadoop#hadoop-client-api;3.3.2 in central\n",
      "\tfound commons-logging#commons-logging;1.1.3 in central\n",
      "\tfound com.google.code.findbugs#jsr305;3.0.0 in central\n",
      "\tfound org.apache.commons#commons-pool2;2.11.1 in central\n",
      "\tfound org.apache.hadoop#hadoop-aws;3.3.0 in central\n",
      "\tfound com.amazonaws#aws-java-sdk-bundle;1.11.563 in central\n",
      "\tfound org.wildfly.openssl#wildfly-openssl;1.0.7.Final in central\n",
      "\tfound com.google.guava#guava;21.0 in central\n",
      "\tfound org.apache.httpcomponents#httpcore;4.4.8 in central\n",
      "\tfound org.mongodb.spark#mongo-spark-connector_2.12;3.0.1 in central\n",
      "\tfound org.mongodb#mongodb-driver-sync;4.0.5 in central\n",
      "\tfound org.mongodb#bson;4.0.5 in central\n",
      "\tfound org.mongodb#mongodb-driver-core;4.0.5 in central\n",
      "downloading https://repo1.maven.org/maven2/org/apache/spark/spark-sql-kafka-0-10_2.12/3.3.0/spark-sql-kafka-0-10_2.12-3.3.0.jar ...\n",
      "\t[SUCCESSFUL ] org.apache.spark#spark-sql-kafka-0-10_2.12;3.3.0!spark-sql-kafka-0-10_2.12.jar (65ms)\n",
      "downloading https://repo1.maven.org/maven2/org/apache/hadoop/hadoop-aws/3.3.0/hadoop-aws-3.3.0.jar ...\n",
      "\t[SUCCESSFUL ] org.apache.hadoop#hadoop-aws;3.3.0!hadoop-aws.jar (95ms)\n",
      "downloading https://repo1.maven.org/maven2/com/google/guava/guava/21.0/guava-21.0.jar ...\n",
      "\t[SUCCESSFUL ] com.google.guava#guava;21.0!guava.jar(bundle) (201ms)\n",
      "downloading https://repo1.maven.org/maven2/org/apache/httpcomponents/httpcore/4.4.8/httpcore-4.4.8.jar ...\n",
      "\t[SUCCESSFUL ] org.apache.httpcomponents#httpcore;4.4.8!httpcore.jar (52ms)\n",
      "downloading https://repo1.maven.org/maven2/org/mongodb/spark/mongo-spark-connector_2.12/3.0.1/mongo-spark-connector_2.12-3.0.1.jar ...\n",
      "\t[SUCCESSFUL ] org.mongodb.spark#mongo-spark-connector_2.12;3.0.1!mongo-spark-connector_2.12.jar (65ms)\n",
      "downloading https://repo1.maven.org/maven2/org/apache/spark/spark-token-provider-kafka-0-10_2.12/3.3.0/spark-token-provider-kafka-0-10_2.12-3.3.0.jar ...\n",
      "\t[SUCCESSFUL ] org.apache.spark#spark-token-provider-kafka-0-10_2.12;3.3.0!spark-token-provider-kafka-0-10_2.12.jar (32ms)\n",
      "downloading https://repo1.maven.org/maven2/org/apache/kafka/kafka-clients/2.8.1/kafka-clients-2.8.1.jar ...\n",
      "\t[SUCCESSFUL ] org.apache.kafka#kafka-clients;2.8.1!kafka-clients.jar (281ms)\n",
      "downloading https://repo1.maven.org/maven2/com/google/code/findbugs/jsr305/3.0.0/jsr305-3.0.0.jar ...\n",
      "\t[SUCCESSFUL ] com.google.code.findbugs#jsr305;3.0.0!jsr305.jar (28ms)\n",
      "downloading https://repo1.maven.org/maven2/org/apache/commons/commons-pool2/2.11.1/commons-pool2-2.11.1.jar ...\n",
      "\t[SUCCESSFUL ] org.apache.commons#commons-pool2;2.11.1!commons-pool2.jar (31ms)\n",
      "downloading https://repo1.maven.org/maven2/org/spark-project/spark/unused/1.0.0/unused-1.0.0.jar ...\n",
      "\t[SUCCESSFUL ] org.spark-project.spark#unused;1.0.0!unused.jar (27ms)\n",
      "downloading https://repo1.maven.org/maven2/org/apache/hadoop/hadoop-client-runtime/3.3.2/hadoop-client-runtime-3.3.2.jar ...\n",
      "\t[SUCCESSFUL ] org.apache.hadoop#hadoop-client-runtime;3.3.2!hadoop-client-runtime.jar (1255ms)\n",
      "downloading https://repo1.maven.org/maven2/org/lz4/lz4-java/1.8.0/lz4-java-1.8.0.jar ...\n",
      "\t[SUCCESSFUL ] org.lz4#lz4-java;1.8.0!lz4-java.jar (69ms)\n",
      "downloading https://repo1.maven.org/maven2/org/xerial/snappy/snappy-java/1.1.8.4/snappy-java-1.1.8.4.jar ...\n",
      "\t[SUCCESSFUL ] org.xerial.snappy#snappy-java;1.1.8.4!snappy-java.jar(bundle) (160ms)\n",
      "downloading https://repo1.maven.org/maven2/org/slf4j/slf4j-api/1.7.32/slf4j-api-1.7.32.jar ...\n",
      "\t[SUCCESSFUL ] org.slf4j#slf4j-api;1.7.32!slf4j-api.jar (44ms)\n",
      "downloading https://repo1.maven.org/maven2/org/apache/hadoop/hadoop-client-api/3.3.2/hadoop-client-api-3.3.2.jar ...\n",
      "\t[SUCCESSFUL ] org.apache.hadoop#hadoop-client-api;3.3.2!hadoop-client-api.jar (958ms)\n",
      "downloading https://repo1.maven.org/maven2/commons-logging/commons-logging/1.1.3/commons-logging-1.1.3.jar ...\n",
      "\t[SUCCESSFUL ] commons-logging#commons-logging;1.1.3!commons-logging.jar (31ms)\n",
      "downloading https://repo1.maven.org/maven2/com/amazonaws/aws-java-sdk-bundle/1.11.563/aws-java-sdk-bundle-1.11.563.jar ...\n",
      "\t[SUCCESSFUL ] com.amazonaws#aws-java-sdk-bundle;1.11.563!aws-java-sdk-bundle.jar (5553ms)\n",
      "downloading https://repo1.maven.org/maven2/org/wildfly/openssl/wildfly-openssl/1.0.7.Final/wildfly-openssl-1.0.7.Final.jar ...\n",
      "\t[SUCCESSFUL ] org.wildfly.openssl#wildfly-openssl;1.0.7.Final!wildfly-openssl.jar (57ms)\n",
      "downloading https://repo1.maven.org/maven2/org/mongodb/mongodb-driver-sync/4.0.5/mongodb-driver-sync-4.0.5.jar ...\n",
      "\t[SUCCESSFUL ] org.mongodb#mongodb-driver-sync;4.0.5!mongodb-driver-sync.jar (35ms)\n",
      "downloading https://repo1.maven.org/maven2/org/mongodb/bson/4.0.5/bson-4.0.5.jar ...\n",
      "\t[SUCCESSFUL ] org.mongodb#bson;4.0.5!bson.jar (61ms)\n",
      "downloading https://repo1.maven.org/maven2/org/mongodb/mongodb-driver-core/4.0.5/mongodb-driver-core-4.0.5.jar ...\n",
      "\t[SUCCESSFUL ] org.mongodb#mongodb-driver-core;4.0.5!mongodb-driver-core.jar (153ms)\n",
      ":: resolution report :: resolve 8977ms :: artifacts dl 9270ms\n",
      "\t:: modules in use:\n",
      "\tcom.amazonaws#aws-java-sdk-bundle;1.11.563 from central in [default]\n",
      "\tcom.google.code.findbugs#jsr305;3.0.0 from central in [default]\n",
      "\tcom.google.guava#guava;21.0 from central in [default]\n",
      "\tcommons-logging#commons-logging;1.1.3 from central in [default]\n",
      "\torg.apache.commons#commons-pool2;2.11.1 from central in [default]\n",
      "\torg.apache.hadoop#hadoop-aws;3.3.0 from central in [default]\n",
      "\torg.apache.hadoop#hadoop-client-api;3.3.2 from central in [default]\n",
      "\torg.apache.hadoop#hadoop-client-runtime;3.3.2 from central in [default]\n",
      "\torg.apache.httpcomponents#httpcore;4.4.8 from central in [default]\n",
      "\torg.apache.kafka#kafka-clients;2.8.1 from central in [default]\n",
      "\torg.apache.spark#spark-sql-kafka-0-10_2.12;3.3.0 from central in [default]\n",
      "\torg.apache.spark#spark-token-provider-kafka-0-10_2.12;3.3.0 from central in [default]\n",
      "\torg.lz4#lz4-java;1.8.0 from central in [default]\n",
      "\torg.mongodb#bson;4.0.5 from central in [default]\n",
      "\torg.mongodb#mongodb-driver-core;4.0.5 from central in [default]\n",
      "\torg.mongodb#mongodb-driver-sync;4.0.5 from central in [default]\n",
      "\torg.mongodb.spark#mongo-spark-connector_2.12;3.0.1 from central in [default]\n",
      "\torg.slf4j#slf4j-api;1.7.32 from central in [default]\n",
      "\torg.spark-project.spark#unused;1.0.0 from central in [default]\n",
      "\torg.wildfly.openssl#wildfly-openssl;1.0.7.Final from central in [default]\n",
      "\torg.xerial.snappy#snappy-java;1.1.8.4 from central in [default]\n",
      "\t:: evicted modules:\n",
      "\torg.apache.kafka#kafka-clients;2.8.0 by [org.apache.kafka#kafka-clients;2.8.1] in [default]\n",
      "\t---------------------------------------------------------------------\n",
      "\t|                  |            modules            ||   artifacts   |\n",
      "\t|       conf       | number| search|dwnlded|evicted|| number|dwnlded|\n",
      "\t---------------------------------------------------------------------\n",
      "\t|      default     |   22  |   21  |   21  |   1   ||   21  |   21  |\n",
      "\t---------------------------------------------------------------------\n",
      ":: retrieving :: org.apache.spark#spark-submit-parent-9347076a-3a1d-4725-9093-cdb8e3174dfc\n",
      "\tconfs: [default]\n",
      "\t21 artifacts copied, 0 already retrieved (190189kB/281ms)\n"
     ]
    },
    {
     "name": "stdout",
     "output_type": "stream",
     "text": [
      "22/12/16 21:55:21 WARN NativeCodeLoader: Unable to load native-hadoop library for your platform... using builtin-java classes where applicable\n"
     ]
    },
    {
     "name": "stderr",
     "output_type": "stream",
     "text": [
      "Setting default log level to \"WARN\".\n",
      "To adjust logging level use sc.setLogLevel(newLevel). For SparkR, use setLogLevel(newLevel).\n",
      "INFO:consumer:Spark Driver memory: None\n",
      "INFO:consumer:Spark Executor memory: None\n",
      "INFO:consumer:Loaded jars:\n",
      "[\n",
      "  \"spark://0a1193a2c030:43947/jars/org.apache.hadoop_hadoop-aws-3.3.0.jar\",\n",
      "  \"spark://0a1193a2c030:43947/jars/org.xerial.snappy_snappy-java-1.1.8.4.jar\",\n",
      "  \"spark://0a1193a2c030:43947/jars/org.apache.spark_spark-token-provider-kafka-0-10_2.12-3.3.0.jar\",\n",
      "  \"spark://0a1193a2c030:43947/jars/com.google.code.findbugs_jsr305-3.0.0.jar\",\n",
      "  \"spark://0a1193a2c030:43947/jars/org.wildfly.openssl_wildfly-openssl-1.0.7.Final.jar\",\n",
      "  \"spark://0a1193a2c030:43947/jars/org.mongodb_mongodb-driver-sync-4.0.5.jar\",\n",
      "  \"spark://0a1193a2c030:43947/jars/org.apache.kafka_kafka-clients-2.8.1.jar\",\n",
      "  \"spark://0a1193a2c030:43947/jars/org.mongodb_mongodb-driver-core-4.0.5.jar\",\n",
      "  \"spark://0a1193a2c030:43947/jars/com.google.guava_guava-21.0.jar\",\n",
      "  \"spark://0a1193a2c030:43947/jars/commons-logging_commons-logging-1.1.3.jar\",\n",
      "  \"spark://0a1193a2c030:43947/jars/org.mongodb.spark_mongo-spark-connector_2.12-3.0.1.jar\",\n",
      "  \"spark://0a1193a2c030:43947/jars/org.spark-project.spark_unused-1.0.0.jar\",\n",
      "  \"spark://0a1193a2c030:43947/jars/org.lz4_lz4-java-1.8.0.jar\",\n",
      "  \"spark://0a1193a2c030:43947/jars/org.apache.httpcomponents_httpcore-4.4.8.jar\",\n",
      "  \"spark://0a1193a2c030:43947/jars/org.apache.hadoop_hadoop-client-api-3.3.2.jar\",\n",
      "  \"spark://0a1193a2c030:43947/jars/org.apache.commons_commons-pool2-2.11.1.jar\",\n",
      "  \"spark://0a1193a2c030:43947/jars/org.slf4j_slf4j-api-1.7.32.jar\",\n",
      "  \"spark://0a1193a2c030:43947/jars/com.amazonaws_aws-java-sdk-bundle-1.11.563.jar\",\n",
      "  \"spark://0a1193a2c030:43947/jars/org.apache.spark_spark-sql-kafka-0-10_2.12-3.3.0.jar\",\n",
      "  \"spark://0a1193a2c030:43947/jars/org.apache.hadoop_hadoop-client-runtime-3.3.2.jar\",\n",
      "  \"spark://0a1193a2c030:43947/jars/org.mongodb_bson-4.0.5.jar\"\n",
      "]\n"
     ]
    }
   ],
   "source": [
    "conf = SparkConf().setAppName(\"StreamJob\")\n",
    "conf = (conf.setMaster('spark://spark:7077')\n",
    "        .set('spark.jars.packages', ','.join(kafka_packages))\n",
    "       )\n",
    "sc = SparkContext(conf=conf)\n",
    "logger.info(f\"Spark Driver memory: {sc._conf.get('spark.driver.memory')}\")\n",
    "logger.info(f\"Spark Executor memory: {sc._conf.get('spark.executor.memory')}\")\n",
    "logger.info(\n",
    "    f'Loaded jars:\\n{json.dumps((sc._jsc.sc().listJars().toList().toString().replace(\"List(\", \"\").replace(\")\", \"\").split(\", \")), indent=2)}')\n",
    "sc.setLogLevel(\"ERROR\")\n",
    "spark = SparkSession(sc)"
   ]
  },
  {
   "cell_type": "markdown",
   "id": "21119059-3233-4713-800e-79fd9f642f59",
   "metadata": {},
   "source": [
    "# Test Kafka topic and connection"
   ]
  },
  {
   "cell_type": "code",
   "execution_count": 6,
   "id": "fd64ee87-38ef-48fc-9c3a-cb02eea054b2",
   "metadata": {},
   "outputs": [
    {
     "name": "stdout",
     "output_type": "stream",
     "text": [
      "Kafka Connection successful!\n"
     ]
    }
   ],
   "source": [
    "from confluent_kafka.admin import AdminClient\n",
    "\n",
    "def test_kafka_connection(broker_conf:dict) -> None:\n",
    "    \"\"\"\n",
    "    Function to test kafka connection\n",
    "    :param broker_conf: Broker configuration\n",
    "    :returns: None\n",
    "    \"\"\"\n",
    "    client = AdminClient(broker_conf)\n",
    "    topics = client.list_topics().topics\n",
    "    if not topics:\n",
    "        raise RuntimeError()\n",
    "    print(\"Kafka Connection successful!\")\n",
    "\n",
    "\n",
    "broker_conf = {\n",
    "    'bootstrap.servers': config[\"global\"][\"kafka_bootstrap_servers\"]\n",
    "}\n",
    "\n",
    "# Test kafka connection\n",
    "test_kafka_connection(broker_conf)\n"
   ]
  },
  {
   "cell_type": "markdown",
   "id": "7f6ee247-a17e-4251-be08-52239fe92a9e",
   "metadata": {},
   "source": [
    "# Configure Spark-Kafka consumer options and Subscribe to Kafka Topic"
   ]
  },
  {
   "cell_type": "code",
   "execution_count": 7,
   "id": "ec5fe836-02d2-448f-bd26-45a3f610bdef",
   "metadata": {},
   "outputs": [],
   "source": [
    "from pyspark.sql.functions import from_json\n",
    "from pyspark.sql.types import StructType, StructField, StringType, IntegerType, TimestampType, LongType, ArrayType,FloatType,DoubleType\n",
    "schema = StructType().add(\"VendorID\", StringType(), True)\\\n",
    "                    .add(\"total_amount\",StringType(),True)\\\n",
    "                    .add(\"trip_distance\",StringType(),True)"
   ]
  },
  {
   "cell_type": "code",
   "execution_count": 8,
   "id": "00cd6aa7-5423-4e69-843c-97bbb8cd22d2",
   "metadata": {},
   "outputs": [
    {
     "data": {
      "text/plain": [
       "StructType([StructField('VendorID', StringType(), True), StructField('total_amount', StringType(), True), StructField('trip_distance', StringType(), True)])"
      ]
     },
     "execution_count": 8,
     "metadata": {},
     "output_type": "execute_result"
    }
   ],
   "source": [
    "schema"
   ]
  },
  {
   "cell_type": "code",
   "execution_count": null,
   "id": "db5f68ea-42a9-4844-8066-e4b0f3f6c76a",
   "metadata": {},
   "outputs": [],
   "source": []
  },
  {
   "cell_type": "code",
   "execution_count": 9,
   "id": "74ce4627-a0af-4bb3-8daa-f3a3112b6f9b",
   "metadata": {},
   "outputs": [],
   "source": [
    "spark.sparkContext.setLogLevel(\"ERROR\")\n",
    "\n",
    "# Configure spark kafka client options\n",
    "spark_kafka_options = {\n",
    "    \"kafka.bootstrap.servers\": config[\"global\"][\"kafka_bootstrap_servers\"],\n",
    "    \"subscribe\": config[\"global\"][\"kafka_topic\"],\n",
    "    \"kafka.group.id\": config[\"global\"][\"kafka_consumer_group\"],\n",
    "    \"maxOffsetsPerTrigger\": 10,\n",
    "    \"startingOffsets\": \"earliest\",\n",
    "}\n",
    "\n",
    "# Enable spark read stream\n",
    "df = spark.readStream.format(\"kafka\").options(**spark_kafka_options).load()"
   ]
  },
  {
   "cell_type": "code",
   "execution_count": 10,
   "id": "30a9e9e0-109d-4b51-b1d3-1832c62dcbfe",
   "metadata": {},
   "outputs": [
    {
     "name": "stderr",
     "output_type": "stream",
     "text": [
      "INFO:py4j.java_gateway:Callback Server Starting\n",
      "INFO:py4j.java_gateway:Socket listening on ('127.0.0.1', 33707)\n"
     ]
    }
   ],
   "source": [
    "def process_batch(batch_df, batch_idx):\n",
    "    print(f\"{batch_idx} | {batch_df.count()}\")\n",
    "    batch_df = batch_df.selectExpr(\"CAST(value AS STRING)\").select(from_json(\"value\", schema).alias(\"data\"))\n",
    "    # batch_df = batch_df.selectExpr(\"CAST(value AS STRING)\").select(from_json(\"value\", schema).alias(\"data\"))\n",
    "    batch_df = batch_df.selectExpr(\"data.VendorID as VendorID\",\"CAST(data.total_amount AS FLOAT) as total_amount\",\"CAST(data.trip_distance AS FLOAT) as trip_distance\")    \n",
    "    # \"CAST(data.birth AS DATE) as birth\"\n",
    "    mongoURL = \"mongodb://mongo:27017/demo.transactions\"\n",
    "    batch_df.write.format(\"mongo\").mode(\"append\").option(\"uri\",mongoURL).save()\n",
    "    \n",
    "    # batch_df.write.mode('append').format(\"console\")\n",
    "    batch_df.collect()\n",
    "    batch_df.show()\n",
    "    return batch_df\n",
    "\n",
    "# Structred streaming query\n",
    "# query = df.writeStream.foreachBatch(process_batch).start()\n",
    "query = df.writeStream.trigger(processingTime='10 seconds').foreachBatch(process_batch).start()"
   ]
  },
  {
   "cell_type": "code",
   "execution_count": 11,
   "id": "41ad7ab8-e692-4f2e-bc16-9b2a64c2eb5e",
   "metadata": {},
   "outputs": [],
   "source": [
    "import pymongo\n",
    "from pymongo import MongoClient\n",
    "client = MongoClient()\n",
    "client = MongoClient(\"mongodb://mongo:27017/\")"
   ]
  },
  {
   "cell_type": "code",
   "execution_count": 12,
   "id": "341a7eea-138d-40ec-8214-9033f40e19eb",
   "metadata": {},
   "outputs": [
    {
     "name": "stdout",
     "output_type": "stream",
     "text": [
      "{'name': 'admin', 'sizeOnDisk': 65536.0, 'empty': False}\n",
      "{'name': 'app', 'sizeOnDisk': 1019904.0, 'empty': False}\n",
      "{'name': 'auth', 'sizeOnDisk': 2322432.0, 'empty': False}\n",
      "{'name': 'config', 'sizeOnDisk': 176128.0, 'empty': False}\n",
      "{'name': 'demo', 'sizeOnDisk': 73728.0, 'empty': False}\n",
      "{'name': 'events', 'sizeOnDisk': 61440.0, 'empty': False}\n",
      "{'name': 'hosting', 'sizeOnDisk': 28672.0, 'empty': False}\n",
      "{'name': 'local', 'sizeOnDisk': 182562816.0, 'empty': False}\n",
      "{'name': 'log', 'sizeOnDisk': 24150016.0, 'empty': False}\n",
      "{'name': 'metadata', 'sizeOnDisk': 323584.0, 'empty': False}\n",
      "{'name': 'test', 'sizeOnDisk': 32768.0, 'empty': False}\n",
      "{'name': 'transactions', 'sizeOnDisk': 65536.0, 'empty': False}\n"
     ]
    }
   ],
   "source": [
    "for db in client.list_databases():\n",
    "    print(db)"
   ]
  },
  {
   "cell_type": "code",
   "execution_count": 13,
   "id": "b450f15c-37d1-4090-9265-cf0048f8f8b9",
   "metadata": {},
   "outputs": [
    {
     "name": "stdout",
     "output_type": "stream",
     "text": [
      "{'_id': ObjectId('639ccd0517a7ac237ada612a'), 'VendorID': '2', 'total_amount': 17.049999237060547, 'trip_distance': 1.590000033378601}\n",
      "{'_id': ObjectId('639ccd0517a7ac237ada612b'), 'VendorID': '1', 'total_amount': 17.799999237060547, 'trip_distance': 3.299999952316284}\n",
      "{'_id': ObjectId('639ccd0517a7ac237ada612c'), 'VendorID': '1', 'total_amount': 10.800000190734863, 'trip_distance': 1.7999999523162842}\n",
      "{'_id': ObjectId('639ccd0517a7ac237ada612d'), 'VendorID': '1', 'total_amount': 4.800000190734863, 'trip_distance': 0.5}\n",
      "{'_id': ObjectId('639ccd0517a7ac237ada612e'), 'VendorID': '1', 'total_amount': 16.299999237060547, 'trip_distance': 3.0}\n",
      "{'_id': ObjectId('639ccd0717a7ac237ada612f'), 'VendorID': '1', 'total_amount': 40.33000183105469, 'trip_distance': 9.0}\n",
      "{'_id': ObjectId('639ccd0717a7ac237ada6130'), 'VendorID': '1', 'total_amount': 15.300000190734863, 'trip_distance': 2.200000047683716}\n",
      "{'_id': ObjectId('639ccd0717a7ac237ada6131'), 'VendorID': '1', 'total_amount': 9.960000038146973, 'trip_distance': 0.800000011920929}\n",
      "{'_id': ObjectId('639ccd0717a7ac237ada6132'), 'VendorID': '1', 'total_amount': 58.130001068115234, 'trip_distance': 18.200000762939453}\n",
      "{'_id': ObjectId('639ccd0717a7ac237ada6133'), 'VendorID': '1', 'total_amount': 9.350000381469727, 'trip_distance': 0.8999999761581421}\n",
      "{'_id': ObjectId('639ccd0a17a7ac237ada6134'), 'VendorID': '1', 'total_amount': 9.960000038146973, 'trip_distance': 0.8999999761581421}\n",
      "{'_id': ObjectId('639ccd0a17a7ac237ada6135'), 'VendorID': '1', 'total_amount': 9.800000190734863, 'trip_distance': 1.100000023841858}\n",
      "{'_id': ObjectId('639ccd0a17a7ac237ada6136'), 'VendorID': '1', 'total_amount': 4.300000190734863, 'trip_distance': 0.30000001192092896}\n",
      "{'_id': ObjectId('639ccd0a17a7ac237ada6137'), 'VendorID': '1', 'total_amount': 23.299999237060547, 'trip_distance': 3.0999999046325684}\n",
      "{'_id': ObjectId('639ccd0a17a7ac237ada6138'), 'VendorID': '1', 'total_amount': 7.300000190734863, 'trip_distance': 1.100000023841858}\n",
      "{'_id': ObjectId('639ccd1417a7ac237ada613a'), 'VendorID': '2', 'total_amount': 22.68000030517578, 'trip_distance': 2.380000114440918}\n",
      "{'_id': ObjectId('639ccd1417a7ac237ada613b'), 'VendorID': '2', 'total_amount': 14.300000190734863, 'trip_distance': 2.8299999237060547}\n",
      "{'_id': ObjectId('639ccd1417a7ac237ada613c'), 'VendorID': '2', 'total_amount': 41.209999084472656, 'trip_distance': 8.329999923706055}\n",
      "{'_id': ObjectId('639ccd1417a7ac237ada613d'), 'VendorID': '2', 'total_amount': 13.300000190734863, 'trip_distance': 2.369999885559082}\n",
      "{'_id': ObjectId('639cd2b52adfb5710e4c888f'), 'VendorID': '1', 'total_amount': 17.799999237060547, 'trip_distance': 3.299999952316284}\n",
      "{'_id': ObjectId('639cd2b52adfb5710e4c8890'), 'VendorID': '1', 'total_amount': 10.800000190734863, 'trip_distance': 1.7999999523162842}\n",
      "{'_id': ObjectId('639cd2b52adfb5710e4c8891'), 'VendorID': '1', 'total_amount': 4.800000190734863, 'trip_distance': 0.5}\n",
      "{'_id': ObjectId('639cd2b52adfb5710e4c8892'), 'VendorID': '1', 'total_amount': 16.299999237060547, 'trip_distance': 3.0}\n",
      "{'_id': ObjectId('639cd2b52adfb5710e4c8893'), 'VendorID': '1', 'total_amount': 40.33000183105469, 'trip_distance': 9.0}\n",
      "{'_id': ObjectId('639cd2b52adfb5710e4c8894'), 'VendorID': '1', 'total_amount': 15.300000190734863, 'trip_distance': 2.200000047683716}\n",
      "{'_id': ObjectId('639cd2b52adfb5710e4c8895'), 'VendorID': '1', 'total_amount': 9.960000038146973, 'trip_distance': 0.800000011920929}\n",
      "{'_id': ObjectId('639cd2b92adfb5710e4c8896'), 'VendorID': '1', 'total_amount': 58.130001068115234, 'trip_distance': 18.200000762939453}\n",
      "{'_id': ObjectId('639cd2b92adfb5710e4c8897'), 'VendorID': '1', 'total_amount': 9.350000381469727, 'trip_distance': 0.8999999761581421}\n",
      "{'_id': ObjectId('639cd2c92adfb5710e4c8899'), 'VendorID': '1', 'total_amount': 9.960000038146973, 'trip_distance': 0.8999999761581421}\n",
      "{'_id': ObjectId('639cd2c92adfb5710e4c889a'), 'VendorID': '1', 'total_amount': 9.800000190734863, 'trip_distance': 1.100000023841858}\n",
      "{'_id': ObjectId('639cd2d32adfb5710e4c889c'), 'VendorID': '1', 'total_amount': 4.300000190734863, 'trip_distance': 0.30000001192092896}\n",
      "{'_id': ObjectId('639cd2d32adfb5710e4c889d'), 'VendorID': '1', 'total_amount': 23.299999237060547, 'trip_distance': 3.0999999046325684}\n",
      "{'_id': ObjectId('639cd2dd2adfb5710e4c889f'), 'VendorID': '1', 'total_amount': 7.300000190734863, 'trip_distance': 1.100000023841858}\n",
      "{'_id': ObjectId('639cd2dd2adfb5710e4c88a0'), 'VendorID': '2', 'total_amount': 22.68000030517578, 'trip_distance': 2.380000114440918}\n",
      "{'_id': ObjectId('639cd2e72adfb5710e4c88a2'), 'VendorID': '2', 'total_amount': 14.300000190734863, 'trip_distance': 2.8299999237060547}\n",
      "{'_id': ObjectId('639cd2f12adfb5710e4c88a4'), 'VendorID': '2', 'total_amount': 41.209999084472656, 'trip_distance': 8.329999923706055}\n",
      "{'_id': ObjectId('639cd2f12adfb5710e4c88a5'), 'VendorID': '2', 'total_amount': 13.300000190734863, 'trip_distance': 2.369999885559082}\n"
     ]
    }
   ],
   "source": [
    "collection = client.demo[\"transactions\"]\n",
    "for doc in collection.find({}):\n",
    "    print(doc)"
   ]
  },
  {
   "cell_type": "code",
   "execution_count": 14,
   "id": "db380c53-65dd-4266-acb5-1a52ccc933c9",
   "metadata": {},
   "outputs": [
    {
     "data": {
      "text/plain": [
       "37"
      ]
     },
     "execution_count": 14,
     "metadata": {},
     "output_type": "execute_result"
    }
   ],
   "source": [
    "db = client[\"demo\"]\n",
    "col = db[\"transactions\"]\n",
    "col.count_documents({})"
   ]
  },
  {
   "cell_type": "code",
   "execution_count": 15,
   "id": "454f6480-5809-4c96-8abf-bfa1c5b98a36",
   "metadata": {},
   "outputs": [
    {
     "name": "stderr",
     "output_type": "stream",
     "text": [
      "INFO:py4j.clientserver:Python Server ready to receive messages\n",
      "INFO:py4j.clientserver:Received command c on object id p0\n",
      "                                                                                \r"
     ]
    },
    {
     "name": "stdout",
     "output_type": "stream",
     "text": [
      "0 | 10\n"
     ]
    },
    {
     "name": "stderr",
     "output_type": "stream",
     "text": [
      "INFO:py4j.clientserver:Received command c on object id p0                       \n"
     ]
    },
    {
     "name": "stdout",
     "output_type": "stream",
     "text": [
      "+--------+------------+-------------+\n",
      "|VendorID|total_amount|trip_distance|\n",
      "+--------+------------+-------------+\n",
      "|       2|       17.05|         1.59|\n",
      "|       1|        17.8|          3.3|\n",
      "|       1|        10.8|          1.8|\n",
      "|       1|         4.8|          0.5|\n",
      "|       1|        16.3|          3.0|\n",
      "|       1|       40.33|          9.0|\n",
      "|       1|        15.3|          2.2|\n",
      "|       1|        9.96|          0.8|\n",
      "|       1|       58.13|         18.2|\n",
      "|       1|        9.35|          0.9|\n",
      "+--------+------------+-------------+\n",
      "\n",
      "1 | 9\n",
      "+--------+------------+-------------+\n",
      "|VendorID|total_amount|trip_distance|\n",
      "+--------+------------+-------------+\n",
      "|       1|        9.96|          0.9|\n",
      "|       1|         9.8|          1.1|\n",
      "|       1|         4.3|          0.3|\n",
      "|       1|        23.3|          3.1|\n",
      "|       1|         7.3|          1.1|\n",
      "|       2|       22.68|         2.38|\n",
      "|       2|        14.3|         2.83|\n",
      "|       2|       41.21|         8.33|\n",
      "|       2|        13.3|         2.37|\n",
      "+--------+------------+-------------+\n",
      "\n"
     ]
    }
   ],
   "source": [
    "client.close()"
   ]
  }
 ],
 "metadata": {
  "kernelspec": {
   "display_name": "Python 3 (ipykernel)",
   "language": "python",
   "name": "python3"
  },
  "language_info": {
   "codemirror_mode": {
    "name": "ipython",
    "version": 3
   },
   "file_extension": ".py",
   "mimetype": "text/x-python",
   "name": "python",
   "nbconvert_exporter": "python",
   "pygments_lexer": "ipython3",
   "version": "3.8.15"
  }
 },
 "nbformat": 4,
 "nbformat_minor": 5
}
